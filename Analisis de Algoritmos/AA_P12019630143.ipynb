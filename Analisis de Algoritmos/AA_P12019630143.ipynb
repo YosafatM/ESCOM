{
  "nbformat": 4,
  "nbformat_minor": 0,
  "metadata": {
    "kernelspec": {
      "display_name": "Python 3",
      "language": "python",
      "name": "python3"
    },
    "language_info": {
      "codemirror_mode": {
        "name": "ipython",
        "version": 3
      },
      "file_extension": ".py",
      "mimetype": "text/x-python",
      "name": "python",
      "nbconvert_exporter": "python",
      "pygments_lexer": "ipython3",
      "version": "3.7.4"
    },
    "colab": {
      "name": "AA_P1.ipynb",
      "provenance": [],
      "collapsed_sections": [],
      "toc_visible": true
    }
  },
  "cells": [
    {
      "cell_type": "markdown",
      "metadata": {
        "id": "wm_d2p0gtKAv",
        "colab_type": "text"
      },
      "source": [
        "<center>\n",
        "<h1>Analisis de algoritmos</h1>\n",
        "Martínez Coronel Brayan Yosafat <br/>\n",
        "3CM2<BR/>\n",
        "Práctica 1\n",
        "</center>\n"
      ]
    },
    {
      "cell_type": "markdown",
      "metadata": {
        "id": "l8FcMxqqGI_R",
        "colab_type": "text"
      },
      "source": [
        "# Introducción"
      ]
    },
    {
      "cell_type": "markdown",
      "metadata": {
        "id": "JhcdmSyVEAHH",
        "colab_type": "text"
      },
      "source": [
        "Cuando una persona comienza a programar, siente felicidad porque sus programas compilan, se propone que el objetivo principal es que el programa funcione. Luego, va creciendo en esta maravillosa carrera, entiende que existen algunas maneras de programar que ya han sido estudiadas, comprende sus beneficios y al inicio se inclina por alguna. Más tarde, se da cuenta que tienen desventajas frente a otras, comienza a ver que hay reglas para programar, que hay toda una formalidad en lo que hace. Cuando esa persona cree que está a medio camino de lo que le han enseñado, es cuando descubre otro. Ve otros matices, tiene más cristales para ver las cosas y se da cuenta de las ramas que existen en esta área. Hoy, es el momento de valorar el cómo se ejecuta lo que se programa y es justo el motivo de esta práctica. "
      ]
    },
    {
      "cell_type": "markdown",
      "metadata": {
        "id": "b3ZfWnT8M1JS",
        "colab_type": "text"
      },
      "source": [
        "Vamos a explicar de manera breve lo que se realiza: inicialmente, se definen funciones de distintos grados de complejidad, luego, se realizan ejecuciones de las funciones, con el fin de poner medir el tiempo en el que tardan en ejecutarse, para después graficar esos datos y ver que realmente son del grado que inicialmente le asignamos."
      ]
    },
    {
      "cell_type": "markdown",
      "metadata": {
        "id": "UqyX3Lv_HFaa",
        "colab_type": "text"
      },
      "source": [
        "# Desarrollo"
      ]
    },
    {
      "cell_type": "markdown",
      "metadata": {
        "id": "CeLcLbsqHIvz",
        "colab_type": "text"
      },
      "source": [
        "En esta práctica se pretende observar el comportamiento de funciones con distintos órdenes, en concreto, el orden lineal, de segundo grado, de tercer grado, exponencial y factorial. "
      ]
    },
    {
      "cell_type": "markdown",
      "metadata": {
        "id": "4oTRBivJtKAz",
        "colab_type": "text"
      },
      "source": [
        "**Import packages <a href=\"https://numpy.org\">Numpy</a> and <a href=\"https://matplotlib.org\">Matplotlib</a>**"
      ]
    },
    {
      "cell_type": "code",
      "metadata": {
        "id": "58oW372ZtKA1",
        "colab_type": "code",
        "colab": {}
      },
      "source": [
        "import numpy as np\n",
        "import matplotlib.pyplot as plt\n",
        "%matplotlib inline"
      ],
      "execution_count": 0,
      "outputs": []
    },
    {
      "cell_type": "markdown",
      "metadata": {
        "id": "e8mii6LktKA8",
        "colab_type": "text"
      },
      "source": [
        "Definimos a las funciones con los órdenes mencionados:"
      ]
    },
    {
      "cell_type": "code",
      "metadata": {
        "id": "LqLNjkjAtKA9",
        "colab_type": "code",
        "colab": {}
      },
      "source": [
        "def func_lineal(n):\n",
        "    res=0\n",
        "    for j in range(len(n)):\n",
        "      res=res+n[j]\n",
        "    return res\n",
        "\n",
        "def func_n_2(n):\n",
        "    res=0\n",
        "    for i in range(len(n)):\n",
        "      for j in range(len(n)):\n",
        "        res=res+n[j]\n",
        "    return res\n",
        "\n",
        "def func_n_3(n):\n",
        "    res=0\n",
        "    for i in range(len(n)):\n",
        "      for j in range(len(n)):\n",
        "        for k in range(len(n)):\n",
        "          res=res+n[k]\n",
        "    return res\n",
        "\n",
        "def func_exponencial(n, i):\n",
        "    res = 0;\n",
        "\n",
        "    if i == 0:\n",
        "      return func_lineal(n);\n",
        "\n",
        "    for j in range(len(n)):\n",
        "      res = res + func_exponencial(n, i - 1)\n",
        "    \n",
        "    return res\n",
        "\n",
        "def fun_fact(n):\n",
        "    res = 1;\n",
        "\n",
        "    for j in range(n):\n",
        "      fun_fact(n-1)\n",
        "  \n",
        "    return res"
      ],
      "execution_count": 0,
      "outputs": []
    },
    {
      "cell_type": "markdown",
      "metadata": {
        "id": "_IFXxDkRtKBX",
        "colab_type": "text"
      },
      "source": [
        "**Using Timer to measure the time for a function** and\n",
        "**using matplotlib.pyplot to display some plots. More information on <a href=\"https://matplotlib.org\">matplotlib.org</a>**"
      ]
    },
    {
      "cell_type": "code",
      "metadata": {
        "id": "NPJX7GJ82aQ2",
        "colab_type": "code",
        "outputId": "beb6b78c-4398-4ef9-d0cf-f2d09d20b870",
        "colab": {
          "base_uri": "https://localhost:8080/",
          "height": 1000
        }
      },
      "source": [
        "import numpy as np\n",
        "from timeit import Timer\n",
        "\n",
        "size=64\n",
        "x=np.arange(0,size)\n",
        "y=np.zeros(size)\n",
        "j=0\n",
        "\n",
        "for i in x:\n",
        "\n",
        "  n = i\n",
        "  N = np.arange(0, n, 1) #An array of n elements\n",
        "\n",
        "\n",
        "  #Setups the functions to be called\n",
        "  setupstr=\"\"\"\n",
        "import numpy as np\n",
        "from __main__ import func_lineal\n",
        "from __main__ import n\n",
        "from __main__ import N\n",
        "\"\"\"\n",
        "\n",
        "  #print(setupstr)\n",
        "\n",
        "  #Each variable methodN has a string that holds to the stament to measure in time\n",
        "  method1=\"\"\"\n",
        "func_lineal(N)\n",
        "\"\"\"\n",
        "\n",
        "  nl = 1000 #The number of times that a methodN is executed\n",
        "  t1 = Timer(method1, setupstr).timeit(nl)\n",
        "\n",
        "  y[j]=t1\n",
        "  j+=1\n",
        "\n",
        "  #calculates the result\n",
        "  r1=func_lineal(N)\n",
        "\n",
        "  #Prints the time for each method\n",
        "  print ('n=',n,\"\\t\\ttime:\", t1/nl,\" seconds\\t result=\",r1)\n",
        "\n",
        "\n",
        "#Graph the results\n",
        "print(x)\n",
        "print(y)\n",
        "\n",
        "plt.plot(x,y,label=\"lineal\")\n",
        "\n",
        "plt.xlabel('n')\n",
        "plt.ylabel('time')\n",
        "\n",
        "plt.title(\"Growth Lineal\")\n",
        "\n",
        "plt.legend()\n",
        "\n",
        "plt.show()"
      ],
      "execution_count": 0,
      "outputs": [
        {
          "output_type": "stream",
          "text": [
            "n= 0 \t\ttime: 3.264519991716952e-07  seconds\t result= 0\n",
            "n= 1 \t\ttime: 9.949530003723338e-07  seconds\t result= 0\n",
            "n= 2 \t\ttime: 1.240183000845718e-06  seconds\t result= 1\n",
            "n= 3 \t\ttime: 1.6719710001780187e-06  seconds\t result= 3\n",
            "n= 4 \t\ttime: 1.507346999460424e-06  seconds\t result= 6\n",
            "n= 5 \t\ttime: 1.9292500001029113e-06  seconds\t result= 10\n",
            "n= 6 \t\ttime: 2.1366869996199965e-06  seconds\t result= 15\n",
            "n= 7 \t\ttime: 2.4940609991972452e-06  seconds\t result= 21\n",
            "n= 8 \t\ttime: 2.5743690002855145e-06  seconds\t result= 28\n",
            "n= 9 \t\ttime: 2.6705269992817192e-06  seconds\t result= 36\n",
            "n= 10 \t\ttime: 2.94146299984277e-06  seconds\t result= 45\n",
            "n= 11 \t\ttime: 3.347650999785401e-06  seconds\t result= 55\n",
            "n= 12 \t\ttime: 3.5792850003417697e-06  seconds\t result= 66\n",
            "n= 13 \t\ttime: 3.588057000342815e-06  seconds\t result= 78\n",
            "n= 14 \t\ttime: 3.65280599999096e-06  seconds\t result= 91\n",
            "n= 15 \t\ttime: 4.747207000036724e-06  seconds\t result= 105\n",
            "n= 16 \t\ttime: 8.191746000193234e-06  seconds\t result= 120\n",
            "n= 17 \t\ttime: 5.693549000170606e-06  seconds\t result= 136\n",
            "n= 18 \t\ttime: 5.982566000056977e-06  seconds\t result= 153\n",
            "n= 19 \t\ttime: 5.937537000136217e-06  seconds\t result= 171\n",
            "n= 20 \t\ttime: 6.74716499997885e-06  seconds\t result= 190\n",
            "n= 21 \t\ttime: 7.024742999419687e-06  seconds\t result= 210\n",
            "n= 22 \t\ttime: 6.384842999977991e-06  seconds\t result= 231\n",
            "n= 23 \t\ttime: 7.029743999737548e-06  seconds\t result= 253\n",
            "n= 24 \t\ttime: 6.958692999432969e-06  seconds\t result= 276\n",
            "n= 25 \t\ttime: 7.119828999748279e-06  seconds\t result= 300\n",
            "n= 26 \t\ttime: 7.240848000037659e-06  seconds\t result= 325\n",
            "n= 27 \t\ttime: 6.834626999989268e-06  seconds\t result= 351\n",
            "n= 28 \t\ttime: 6.946087999494921e-06  seconds\t result= 378\n",
            "n= 29 \t\ttime: 7.38946300043608e-06  seconds\t result= 406\n",
            "n= 30 \t\ttime: 8.027464000406326e-06  seconds\t result= 435\n",
            "n= 31 \t\ttime: 7.781018000059704e-06  seconds\t result= 465\n",
            "n= 32 \t\ttime: 7.6055939998695975e-06  seconds\t result= 496\n",
            "n= 33 \t\ttime: 8.632695999949646e-06  seconds\t result= 528\n",
            "n= 34 \t\ttime: 1.1268723000284809e-05  seconds\t result= 561\n",
            "n= 35 \t\ttime: 8.670332999827223e-06  seconds\t result= 595\n",
            "n= 36 \t\ttime: 9.613914000510704e-06  seconds\t result= 630\n",
            "n= 37 \t\ttime: 8.635848999801966e-06  seconds\t result= 666\n",
            "n= 38 \t\ttime: 9.671285999502289e-06  seconds\t result= 703\n",
            "n= 39 \t\ttime: 9.780344000319019e-06  seconds\t result= 741\n",
            "n= 40 \t\ttime: 9.898635999888938e-06  seconds\t result= 780\n",
            "n= 41 \t\ttime: 9.79383300000336e-06  seconds\t result= 820\n",
            "n= 42 \t\ttime: 1.035832700017636e-05  seconds\t result= 861\n",
            "n= 43 \t\ttime: 1.0869620999983453e-05  seconds\t result= 903\n",
            "n= 44 \t\ttime: 1.144359599948075e-05  seconds\t result= 946\n",
            "n= 45 \t\ttime: 1.0369481999987329e-05  seconds\t result= 990\n",
            "n= 46 \t\ttime: 1.0564201999841317e-05  seconds\t result= 1035\n",
            "n= 47 \t\ttime: 1.1613470999691345e-05  seconds\t result= 1081\n",
            "n= 48 \t\ttime: 1.163152099979925e-05  seconds\t result= 1128\n",
            "n= 49 \t\ttime: 1.1187146999873221e-05  seconds\t result= 1176\n",
            "n= 50 \t\ttime: 1.1822118999589293e-05  seconds\t result= 1225\n",
            "n= 51 \t\ttime: 1.236891000007745e-05  seconds\t result= 1275\n",
            "n= 52 \t\ttime: 1.832121899951744e-05  seconds\t result= 1326\n",
            "n= 53 \t\ttime: 1.3023968000197782e-05  seconds\t result= 1378\n",
            "n= 54 \t\ttime: 1.2391602000207058e-05  seconds\t result= 1431\n",
            "n= 55 \t\ttime: 1.2688568999692506e-05  seconds\t result= 1485\n",
            "n= 56 \t\ttime: 1.4095212000029278e-05  seconds\t result= 1540\n",
            "n= 57 \t\ttime: 1.409533899914095e-05  seconds\t result= 1596\n",
            "n= 58 \t\ttime: 1.3173702000131015e-05  seconds\t result= 1653\n",
            "n= 59 \t\ttime: 1.3790238000183308e-05  seconds\t result= 1711\n",
            "n= 60 \t\ttime: 1.5081628999723761e-05  seconds\t result= 1770\n",
            "n= 61 \t\ttime: 1.5291703000002598e-05  seconds\t result= 1830\n",
            "n= 62 \t\ttime: 1.5747098999781883e-05  seconds\t result= 1891\n",
            "n= 63 \t\ttime: 1.4945980999982567e-05  seconds\t result= 1953\n",
            "[ 0  1  2  3  4  5  6  7  8  9 10 11 12 13 14 15 16 17 18 19 20 21 22 23\n",
            " 24 25 26 27 28 29 30 31 32 33 34 35 36 37 38 39 40 41 42 43 44 45 46 47\n",
            " 48 49 50 51 52 53 54 55 56 57 58 59 60 61 62 63]\n",
            "[0.00032645 0.00099495 0.00124018 0.00167197 0.00150735 0.00192925\n",
            " 0.00213669 0.00249406 0.00257437 0.00267053 0.00294146 0.00334765\n",
            " 0.00357929 0.00358806 0.00365281 0.00474721 0.00819175 0.00569355\n",
            " 0.00598257 0.00593754 0.00674716 0.00702474 0.00638484 0.00702974\n",
            " 0.00695869 0.00711983 0.00724085 0.00683463 0.00694609 0.00738946\n",
            " 0.00802746 0.00778102 0.00760559 0.0086327  0.01126872 0.00867033\n",
            " 0.00961391 0.00863585 0.00967129 0.00978034 0.00989864 0.00979383\n",
            " 0.01035833 0.01086962 0.0114436  0.01036948 0.0105642  0.01161347\n",
            " 0.01163152 0.01118715 0.01182212 0.01236891 0.01832122 0.01302397\n",
            " 0.0123916  0.01268857 0.01409521 0.01409534 0.0131737  0.01379024\n",
            " 0.01508163 0.0152917  0.0157471  0.01494598]\n"
          ],
          "name": "stdout"
        },
        {
          "output_type": "display_data",
          "data": {
            "image/png": "[encoded data removed]",
            "text/plain": [
              "<Figure size 432x288 with 1 Axes>"
            ]
          },
          "metadata": {
            "tags": []
          }
        }
      ]
    },
    {
      "cell_type": "code",
      "metadata": {
        "id": "TKf709JOtKBZ",
        "colab_type": "code",
        "outputId": "33b58a19-4fe9-4133-f634-8800ee2239c9",
        "colab": {
          "base_uri": "https://localhost:8080/",
          "height": 1000
        }
      },
      "source": [
        "import numpy as np\n",
        "from timeit import Timer\n",
        "\n",
        "size=64\n",
        "x=np.arange(0,size)\n",
        "y=np.zeros(size)\n",
        "j=0\n",
        "\n",
        "for i in x:\n",
        "\n",
        "  n = i\n",
        "  N = np.arange(0, n, 1) #An array of n elements\n",
        "\n",
        "\n",
        "  #Setups the functions to be called\n",
        "  setupstr=\"\"\"\n",
        "import numpy as np\n",
        "from __main__ import func_n_2\n",
        "from __main__ import n\n",
        "from __main__ import N\n",
        "\"\"\"\n",
        "\n",
        "  #print(setupstr)\n",
        "\n",
        "  #Each variable methodN has a string that holds to the stament to mearure in time\n",
        "  method1=\"\"\"\n",
        "func_n_2(N)\n",
        "\"\"\"\n",
        "\n",
        "  nl = 1000 #The number of times that a methodN is executed\n",
        "  t1 = Timer(method1, setupstr).timeit(nl)\n",
        "\n",
        "  y[j]=t1\n",
        "  j+=1\n",
        "\n",
        "  #calculates the result\n",
        "  r1=func_n_2(N)\n",
        "\n",
        "  #Prints the time for each method\n",
        "  print ('n=',n,\"\\t\\ttime:\", t1/nl,\" seconds\\t result=\",r1)\n",
        "\n",
        "\n",
        "#Graph the results\n",
        "print(x)\n",
        "print(y)\n",
        "\n",
        "plt.plot(x,y,label=\"cuadratica\")\n",
        "#plt.plot(x,x**2,label=\"cuadratic\")\n",
        "\n",
        "plt.xlabel('n')\n",
        "plt.ylabel('time')\n",
        "\n",
        "plt.title(\"Growth Cuadratica\")\n",
        "\n",
        "plt.legend()\n",
        "\n",
        "plt.show()"
      ],
      "execution_count": 0,
      "outputs": [
        {
          "output_type": "stream",
          "text": [
            "n= 0 \t\ttime: 2.384945999892807e-06  seconds\t result= 0\n",
            "n= 1 \t\ttime: 1.847174999966228e-06  seconds\t result= 0\n",
            "n= 2 \t\ttime: 2.809107000075528e-06  seconds\t result= 2\n",
            "n= 3 \t\ttime: 3.7217829999462992e-06  seconds\t result= 9\n",
            "n= 4 \t\ttime: 5.785581000054662e-06  seconds\t result= 24\n",
            "n= 5 \t\ttime: 8.428356999957031e-06  seconds\t result= 50\n",
            "n= 6 \t\ttime: 1.1402017999898816e-05  seconds\t result= 90\n",
            "n= 7 \t\ttime: 1.441859600004136e-05  seconds\t result= 147\n",
            "n= 8 \t\ttime: 1.8681427000046825e-05  seconds\t result= 224\n",
            "n= 9 \t\ttime: 2.2853619999978037e-05  seconds\t result= 324\n",
            "n= 10 \t\ttime: 2.7555231999940587e-05  seconds\t result= 450\n",
            "n= 11 \t\ttime: 3.2721821999984966e-05  seconds\t result= 605\n",
            "n= 12 \t\ttime: 3.877663200000825e-05  seconds\t result= 792\n",
            "n= 13 \t\ttime: 4.7043671999972504e-05  seconds\t result= 1014\n",
            "n= 14 \t\ttime: 5.353541799991035e-05  seconds\t result= 1274\n",
            "n= 15 \t\ttime: 6.0433356999965325e-05  seconds\t result= 1575\n",
            "n= 16 \t\ttime: 6.984508200002893e-05  seconds\t result= 1920\n",
            "n= 17 \t\ttime: 7.508776800000305e-05  seconds\t result= 2312\n",
            "n= 18 \t\ttime: 9.265823600003387e-05  seconds\t result= 2754\n",
            "n= 19 \t\ttime: 9.54821099999208e-05  seconds\t result= 3249\n",
            "n= 20 \t\ttime: 0.00010894034900002225  seconds\t result= 3800\n",
            "n= 21 \t\ttime: 0.00011506269899996368  seconds\t result= 4410\n",
            "n= 22 \t\ttime: 0.00012476742600006218  seconds\t result= 5082\n",
            "n= 23 \t\ttime: 0.00014264764200015633  seconds\t result= 5819\n",
            "n= 24 \t\ttime: 0.00014557899500005077  seconds\t result= 6624\n",
            "n= 25 \t\ttime: 0.0001608556190001309  seconds\t result= 7500\n",
            "n= 26 \t\ttime: 0.00017224918400006572  seconds\t result= 8450\n",
            "n= 27 \t\ttime: 0.0001868889479999325  seconds\t result= 9477\n",
            "n= 28 \t\ttime: 0.00019415543400009484  seconds\t result= 10584\n",
            "n= 29 \t\ttime: 0.00021969828900000722  seconds\t result= 11774\n",
            "n= 30 \t\ttime: 0.00022712169000010363  seconds\t result= 13050\n",
            "n= 31 \t\ttime: 0.00024149736300000768  seconds\t result= 14415\n",
            "n= 32 \t\ttime: 0.0002582049899999674  seconds\t result= 15872\n",
            "n= 33 \t\ttime: 0.0002729095279999001  seconds\t result= 17424\n",
            "n= 34 \t\ttime: 0.000289402391999829  seconds\t result= 19074\n",
            "n= 35 \t\ttime: 0.0003188078619998578  seconds\t result= 20825\n",
            "n= 36 \t\ttime: 0.00034394916600012946  seconds\t result= 22680\n",
            "n= 37 \t\ttime: 0.000349003706999838  seconds\t result= 24642\n",
            "n= 38 \t\ttime: 0.0003699198400001933  seconds\t result= 26714\n",
            "n= 39 \t\ttime: 0.0003861258409999664  seconds\t result= 28899\n",
            "n= 40 \t\ttime: 0.0004089713360001497  seconds\t result= 31200\n",
            "n= 41 \t\ttime: 0.0004130199960000027  seconds\t result= 33620\n",
            "n= 42 \t\ttime: 0.0004372758529998464  seconds\t result= 36162\n",
            "n= 43 \t\ttime: 0.00046669463499983974  seconds\t result= 38829\n",
            "n= 44 \t\ttime: 0.0004924407690000408  seconds\t result= 41624\n",
            "n= 45 \t\ttime: 0.0005396271270001307  seconds\t result= 44550\n",
            "n= 46 \t\ttime: 0.0005281215729999076  seconds\t result= 47610\n",
            "n= 47 \t\ttime: 0.0005418894300000829  seconds\t result= 50807\n",
            "n= 48 \t\ttime: 0.0005713331100000687  seconds\t result= 54144\n",
            "n= 49 \t\ttime: 0.0006045878600000378  seconds\t result= 57624\n",
            "n= 50 \t\ttime: 0.0006487311979999504  seconds\t result= 61250\n",
            "n= 51 \t\ttime: 0.0006568646349999199  seconds\t result= 65025\n",
            "n= 52 \t\ttime: 0.0006780930679999528  seconds\t result= 68952\n",
            "n= 53 \t\ttime: 0.0006881382609999491  seconds\t result= 73034\n",
            "n= 54 \t\ttime: 0.0007023788599999534  seconds\t result= 77274\n",
            "n= 55 \t\ttime: 0.0007337833419999243  seconds\t result= 81675\n",
            "n= 56 \t\ttime: 0.0007674236049999763  seconds\t result= 86240\n",
            "n= 57 \t\ttime: 0.0008161723339999298  seconds\t result= 90972\n",
            "n= 58 \t\ttime: 0.0008397275569998328  seconds\t result= 95874\n",
            "n= 59 \t\ttime: 0.0008660677999998825  seconds\t result= 100949\n",
            "n= 60 \t\ttime: 0.0009215737539998373  seconds\t result= 106200\n",
            "n= 61 \t\ttime: 0.0009252742409998972  seconds\t result= 111630\n",
            "n= 62 \t\ttime: 0.000954283655999916  seconds\t result= 117242\n",
            "n= 63 \t\ttime: 0.0009792820700001812  seconds\t result= 123039\n",
            "[ 0  1  2  3  4  5  6  7  8  9 10 11 12 13 14 15 16 17 18 19 20 21 22 23\n",
            " 24 25 26 27 28 29 30 31 32 33 34 35 36 37 38 39 40 41 42 43 44 45 46 47\n",
            " 48 49 50 51 52 53 54 55 56 57 58 59 60 61 62 63]\n",
            "[0.00238495 0.00184717 0.00280911 0.00372178 0.00578558 0.00842836\n",
            " 0.01140202 0.0144186  0.01868143 0.02285362 0.02755523 0.03272182\n",
            " 0.03877663 0.04704367 0.05353542 0.06043336 0.06984508 0.07508777\n",
            " 0.09265824 0.09548211 0.10894035 0.1150627  0.12476743 0.14264764\n",
            " 0.145579   0.16085562 0.17224918 0.18688895 0.19415543 0.21969829\n",
            " 0.22712169 0.24149736 0.25820499 0.27290953 0.28940239 0.31880786\n",
            " 0.34394917 0.34900371 0.36991984 0.38612584 0.40897134 0.41302\n",
            " 0.43727585 0.46669463 0.49244077 0.53962713 0.52812157 0.54188943\n",
            " 0.57133311 0.60458786 0.6487312  0.65686463 0.67809307 0.68813826\n",
            " 0.70237886 0.73378334 0.7674236  0.81617233 0.83972756 0.8660678\n",
            " 0.92157375 0.92527424 0.95428366 0.97928207]\n"
          ],
          "name": "stdout"
        },
        {
          "output_type": "display_data",
          "data": {
            "image/png": "[encoded data removed]",
            "text/plain": [
              "<Figure size 432x288 with 1 Axes>"
            ]
          },
          "metadata": {
            "tags": []
          }
        }
      ]
    },
    {
      "cell_type": "code",
      "metadata": {
        "id": "fEJPxZQ630Y4",
        "colab_type": "code",
        "outputId": "3813de43-7ccd-4a1a-b6c7-a0fe4d3f4780",
        "colab": {
          "base_uri": "https://localhost:8080/",
          "height": 1000
        }
      },
      "source": [
        "import numpy as np\n",
        "from timeit import Timer\n",
        "\n",
        "size=32\n",
        "x=np.arange(0,size)\n",
        "y=np.zeros(size)\n",
        "j=0\n",
        "\n",
        "for i in x:\n",
        "\n",
        "  n = i\n",
        "  N = np.arange(0, n, 1) #An array of n elements\n",
        "\n",
        "\n",
        "  #Setups the functions to be called\n",
        "  setupstr=\"\"\"\n",
        "import numpy as np\n",
        "from __main__ import func_n_3\n",
        "from __main__ import n\n",
        "from __main__ import N\n",
        "\"\"\"\n",
        "\n",
        "  #print(setupstr)\n",
        "\n",
        "  #Each variable methodN has a string that holds to the stament to mearure in time\n",
        "  method1=\"\"\"\n",
        "func_n_3(N)\n",
        "\"\"\"\n",
        "\n",
        "  nl = 1000 #The number of times that a methodN is executed\n",
        "  t1 = Timer(method1, setupstr).timeit(nl)\n",
        "\n",
        "  y[j]=t1\n",
        "  j+=1\n",
        "\n",
        "  #calculates the result\n",
        "  r1=func_n_3(N)\n",
        "\n",
        "  #Prints the time for each method\n",
        "  print ('n=',n,\"\\t\\ttime:\", t1/nl,\" seconds\\t result=\",r1)\n",
        "\n",
        "\n",
        "#Graph the results\n",
        "print(x)\n",
        "print(y)\n",
        "\n",
        "plt.plot(x,y,label=\"cubica\")\n",
        "#plt.plot(x,x**2,label=\"cuadratic\")\n",
        "\n",
        "plt.xlabel('n')\n",
        "plt.ylabel('time')\n",
        "\n",
        "plt.title(\"Growth Cubica\")\n",
        "\n",
        "plt.legend()\n",
        "\n",
        "plt.show()"
      ],
      "execution_count": 10,
      "outputs": [
        {
          "output_type": "stream",
          "text": [
            "n= 0 \t\ttime: 2.6519300013205793e-07  seconds\t result= 0\n",
            "n= 1 \t\ttime: 1.7844550000063464e-06  seconds\t result= 0\n",
            "n= 2 \t\ttime: 5.560821000017313e-06  seconds\t result= 4\n",
            "n= 3 \t\ttime: 1.067787700003464e-05  seconds\t result= 27\n",
            "n= 4 \t\ttime: 2.2257893999949374e-05  seconds\t result= 96\n",
            "n= 5 \t\ttime: 3.7584622999929705e-05  seconds\t result= 250\n",
            "n= 6 \t\ttime: 6.807626999989225e-05  seconds\t result= 540\n",
            "n= 7 \t\ttime: 0.00010144722099994396  seconds\t result= 1029\n",
            "n= 8 \t\ttime: 0.00015436829399982342  seconds\t result= 1792\n",
            "n= 9 \t\ttime: 0.00022567737600002146  seconds\t result= 2916\n",
            "n= 10 \t\ttime: 0.00029090591700014557  seconds\t result= 4500\n",
            "n= 11 \t\ttime: 0.0003594205100000636  seconds\t result= 6655\n",
            "n= 12 \t\ttime: 0.00046697727600007965  seconds\t result= 9504\n",
            "n= 13 \t\ttime: 0.000562834402999897  seconds\t result= 13182\n",
            "n= 14 \t\ttime: 0.0007770550539999021  seconds\t result= 17836\n",
            "n= 15 \t\ttime: 0.0009126605779999863  seconds\t result= 23625\n",
            "n= 16 \t\ttime: 0.0010611724670000057  seconds\t result= 30720\n",
            "n= 17 \t\ttime: 0.001276786737999828  seconds\t result= 39304\n",
            "n= 18 \t\ttime: 0.0016064824249999673  seconds\t result= 49572\n",
            "n= 19 \t\ttime: 0.00174439815300002  seconds\t result= 61731\n",
            "n= 20 \t\ttime: 0.002055333654999913  seconds\t result= 76000\n",
            "n= 21 \t\ttime: 0.0023767964940000184  seconds\t result= 92610\n",
            "n= 22 \t\ttime: 0.0026754141710000567  seconds\t result= 111804\n",
            "n= 23 \t\ttime: 0.002968172253000148  seconds\t result= 133837\n",
            "n= 24 \t\ttime: 0.0036451955630000155  seconds\t result= 158976\n",
            "n= 25 \t\ttime: 0.00391579680399991  seconds\t result= 187500\n",
            "n= 26 \t\ttime: 0.004664053714000147  seconds\t result= 219700\n",
            "n= 27 \t\ttime: 0.0050630722430000785  seconds\t result= 255879\n",
            "n= 28 \t\ttime: 0.005345037638999884  seconds\t result= 296352\n",
            "n= 29 \t\ttime: 0.005875834672999872  seconds\t result= 341446\n",
            "n= 30 \t\ttime: 0.007190317763999928  seconds\t result= 391500\n",
            "n= 31 \t\ttime: 0.007480838630000108  seconds\t result= 446865\n",
            "[ 0  1  2  3  4  5  6  7  8  9 10 11 12 13 14 15 16 17 18 19 20 21 22 23\n",
            " 24 25 26 27 28 29 30 31]\n",
            "[2.65193000e-04 1.78445500e-03 5.56082100e-03 1.06778770e-02\n",
            " 2.22578940e-02 3.75846230e-02 6.80762700e-02 1.01447221e-01\n",
            " 1.54368294e-01 2.25677376e-01 2.90905917e-01 3.59420510e-01\n",
            " 4.66977276e-01 5.62834403e-01 7.77055054e-01 9.12660578e-01\n",
            " 1.06117247e+00 1.27678674e+00 1.60648242e+00 1.74439815e+00\n",
            " 2.05533365e+00 2.37679649e+00 2.67541417e+00 2.96817225e+00\n",
            " 3.64519556e+00 3.91579680e+00 4.66405371e+00 5.06307224e+00\n",
            " 5.34503764e+00 5.87583467e+00 7.19031776e+00 7.48083863e+00]\n"
          ],
          "name": "stdout"
        },
        {
          "output_type": "display_data",
          "data": {
            "image/png": "[encoded data removed]",
            "text/plain": [
              "<Figure size 432x288 with 1 Axes>"
            ]
          },
          "metadata": {
            "tags": []
          }
        }
      ]
    },
    {
      "cell_type": "code",
      "metadata": {
        "id": "cL_Q7jvR7jTv",
        "colab_type": "code",
        "outputId": "bee45c7d-4cd6-4714-f907-a244620e56cf",
        "colab": {
          "base_uri": "https://localhost:8080/",
          "height": 475
        }
      },
      "source": [
        "import numpy as np\n",
        "from timeit import Timer\n",
        "\n",
        "size=7\n",
        "i = 2\n",
        "x=np.arange(0,size)\n",
        "y=np.zeros(size)\n",
        "j=0\n",
        "\n",
        "for i in x:\n",
        "\n",
        "  n = i\n",
        "  N = np.arange(0, n, 1) #An array of n elements\n",
        "\n",
        "\n",
        "  #Setups the functions to be called\n",
        "  setupstr=\"\"\"\n",
        "import numpy as np\n",
        "from __main__ import func_exponencial\n",
        "from __main__ import n\n",
        "from __main__ import N\n",
        "from __main__ import i\n",
        "\"\"\"\n",
        "\n",
        "  #print(setupstr)\n",
        "\n",
        "  #Each variable methodN has a string that holds to the stament to mearure in time\n",
        "  method1=\"\"\"\n",
        "func_exponencial(N, i)\n",
        "\"\"\"\n",
        "\n",
        "  nl = 100 - (4*i) #The number of times that a methodN is executed\n",
        "  t1 = Timer(method1, setupstr).timeit(nl)\n",
        "\n",
        "  y[j]=t1\n",
        "  j+=1\n",
        "\n",
        "  #calculates the result\n",
        "  r1=func_exponencial(N, i)\n",
        "\n",
        "  #Prints the time for each method\n",
        "  print ('n=',n,\"\\t\\ttime:\", t1/nl,\" seconds\\t result=\",r1)\n",
        "\n",
        "\n",
        "#Graph the results\n",
        "print(x)\n",
        "print(y)\n",
        "\n",
        "plt.plot(x,y,label=\"exponencial\")\n",
        "#plt.plot(x,x**2,label=\"exponencial\")\n",
        "\n",
        "plt.xlabel('n')\n",
        "plt.ylabel('time')\n",
        "\n",
        "plt.title(\"Growth exponencial\")\n",
        "\n",
        "plt.legend()\n",
        "\n",
        "plt.show()"
      ],
      "execution_count": 23,
      "outputs": [
        {
          "output_type": "stream",
          "text": [
            "n= 0 \t\ttime: 5.887800034543033e-07  seconds\t result= 0\n",
            "n= 1 \t\ttime: 2.1433645827073633e-06  seconds\t result= 0\n",
            "n= 2 \t\ttime: 1.1669684790436092e-05  seconds\t result= 4\n",
            "n= 3 \t\ttime: 7.226239773155447e-05  seconds\t result= 81\n",
            "n= 4 \t\ttime: 0.000635056678577582  seconds\t result= 1536\n",
            "n= 5 \t\ttime: 0.008554856362502505  seconds\t result= 31250\n",
            "n= 6 \t\ttime: 0.13306661482894064  seconds\t result= 699840\n",
            "[0 1 2 3 4 5 6]\n",
            "[5.88780003e-05 2.05763000e-04 1.07361100e-03 6.35909100e-03\n",
            " 5.33447610e-02 6.84388509e-01 1.01130627e+01]\n"
          ],
          "name": "stdout"
        },
        {
          "output_type": "display_data",
          "data": {
            "image/png": "[encoded data removed]",
            "text/plain": [
              "<Figure size 432x288 with 1 Axes>"
            ]
          },
          "metadata": {
            "tags": []
          }
        }
      ]
    },
    {
      "cell_type": "code",
      "metadata": {
        "colab_type": "code",
        "outputId": "0c9ef538-ace3-428c-a95e-64e7cde9147c",
        "id": "o_EqxbDvVCaN",
        "colab": {
          "base_uri": "https://localhost:8080/",
          "height": 529
        }
      },
      "source": [
        "import numpy as np\n",
        "from timeit import Timer\n",
        "\n",
        "size= 9\n",
        "x=np.arange(0,size)\n",
        "y=np.zeros(size)\n",
        "j=0\n",
        "\n",
        "for i in x:\n",
        "\n",
        "  n = i\n",
        "\n",
        "\n",
        "  #Setups the functions to be called\n",
        "  setupstr=\"\"\"\n",
        "import numpy as np\n",
        "from __main__ import fun_fact\n",
        "from __main__ import n\n",
        "\"\"\"\n",
        "\n",
        "  #print(setupstr)\n",
        "\n",
        "  #Each variable methodN has a string that holds to the stament to mearure in time\n",
        "  method1=\"\"\"\n",
        "fun_fact(n)\n",
        "\"\"\"\n",
        "\n",
        "  nl = 1000 #The number of times that a methodN is executed\n",
        "  t1 = Timer(method1, setupstr).timeit(nl)\n",
        "\n",
        "  y[j]=t1\n",
        "  j+=1\n",
        "\n",
        "  #calculates the result\n",
        "  r1=fun_fact(n)\n",
        "\n",
        "  #Prints the time for each method\n",
        "  print ('n=',n,\"\\t\\ttime:\", t1/nl,\" seconds\\t result=\",r1)\n",
        "\n",
        "\n",
        "#Graph the results\n",
        "print(x)\n",
        "print(y)\n",
        "\n",
        "plt.plot(x,y,label=\"factorial\")\n",
        "#plt.plot(x,x**2,label=\"factorial\")\n",
        "\n",
        "plt.xlabel('n')\n",
        "plt.ylabel('time')\n",
        "\n",
        "plt.title(\"Growth factorial\")\n",
        "\n",
        "plt.legend()\n",
        "\n",
        "plt.show()"
      ],
      "execution_count": 65,
      "outputs": [
        {
          "output_type": "stream",
          "text": [
            "n= 0 \t\ttime: 3.7082800008647607e-07  seconds\t result= 1\n",
            "n= 1 \t\ttime: 1.4269030016293982e-06  seconds\t result= 1\n",
            "n= 2 \t\ttime: 5.8729299998958595e-06  seconds\t result= 1\n",
            "n= 3 \t\ttime: 1.4845443000012893e-05  seconds\t result= 1\n",
            "n= 4 \t\ttime: 3.787864100013394e-05  seconds\t result= 1\n",
            "n= 5 \t\ttime: 0.00018976920300156053  seconds\t result= 1\n",
            "n= 6 \t\ttime: 0.0011246217339994473  seconds\t result= 1\n",
            "n= 7 \t\ttime: 0.007833861994000471  seconds\t result= 1\n",
            "n= 8 \t\ttime: 0.06169575007599997  seconds\t result= 1\n",
            "[0 1 2 3 4 5 6 7 8]\n",
            "[3.70828000e-04 1.42690300e-03 5.87293000e-03 1.48454430e-02\n",
            " 3.78786410e-02 1.89769203e-01 1.12462173e+00 7.83386199e+00\n",
            " 6.16957501e+01]\n"
          ],
          "name": "stdout"
        },
        {
          "output_type": "display_data",
          "data": {
            "image/png": "[encoded data removed]",
            "text/plain": [
              "<Figure size 432x288 with 1 Axes>"
            ]
          },
          "metadata": {
            "tags": []
          }
        }
      ]
    },
    {
      "cell_type": "markdown",
      "metadata": {
        "id": "GcFLkGlINqLz",
        "colab_type": "text"
      },
      "source": [
        "# Conclusiones"
      ]
    },
    {
      "cell_type": "markdown",
      "metadata": {
        "id": "7T2KhUBKNozC",
        "colab_type": "text"
      },
      "source": [
        "En principio, podemos destacar la capacidad de Python para este tipo de acciones, es de reconocer que tiene un amplio uso en la ciencia de datos. Por otro lado, podemos ver que en un inicio, las repeticiones eran de 1000 y el tamaño llegaba hasta 64, pero al final no se puede ni siquiera llegar a 10. Esto nos alerta a tratar de mantener bajo el orden de las funciones que tengamos en cualquier programa, es una diferencia abismal entre el tiempo del orden factorial al lineal, así que a partir de ahora, será necesario documentar estos datos para poder mejorar cada día en nuestros programas. Quién sabe, podríamos incluso hacer nuevos algoritmos."
      ]
    },
    {
      "cell_type": "markdown",
      "metadata": {
        "id": "zH1T99AUOwOQ",
        "colab_type": "text"
      },
      "source": [
        "Nota final: cuando lo vi, no pude decírselo, pero, gracias, profesor, porque al inicio estaba dudoso con que me gustara la materia, y... vaya, ahora que me está encantado... Espero que sea lo que sea, lo solucione pronto. Un placer profesor."
      ]
    }
  ]
}